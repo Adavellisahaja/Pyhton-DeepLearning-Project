{
 "cells": [
  {
   "cell_type": "code",
   "execution_count": 0,
   "metadata": {
    "colab": {},
    "colab_type": "code",
    "id": "92sS7seN9s8I"
   },
   "outputs": [],
   "source": [
    "stock_path = \"/content/drive/My Drive/Colab Notebooks/kaggle_testing/stock_data/Stocks/\"\n",
    "t_path = '/content/drive/My Drive/Colab Notebooks/stock_dataset_build/'\n"
   ]
  },
  {
   "cell_type": "code",
   "execution_count": 262,
   "metadata": {
    "colab": {
     "base_uri": "https://localhost:8080/",
     "height": 102
    },
    "colab_type": "code",
    "executionInfo": {
     "elapsed": 500,
     "status": "ok",
     "timestamp": 1588721815229,
     "user": {
      "displayName": "Raspberry Pi",
      "photoUrl": "",
      "userId": "09371942930627630010"
     },
     "user_tz": 300
    },
    "id": "2tlsHCbi_4uq",
    "outputId": "dde0f409-f20c-4559-d0c9-66a1357d9d24"
   },
   "outputs": [
    {
     "name": "stdout",
     "output_type": "stream",
     "text": [
      "Index(['Unnamed: 0', 'username', 'text', 'retweets', 'favorites', 'replies',\n",
      "       'permalink', 'author_id', 'date', 'formatted_date', 'hashtags',\n",
      "       'mentions', 'urls', 'timestamp', 'max_diff', 'diff', 'diff_percent',\n",
      "       'output_binary'],\n",
      "      dtype='object')\n"
     ]
    }
   ],
   "source": [
    "import json,datetime\n",
    "import os\n",
    "import pandas as pd\n",
    "\n",
    "def read_json(file_name):\n",
    "  with open(t_path+file_name,'r') as file:\n",
    "    a = file.read().strip('[]').replace('\"},','\"}\\n').replace('\"}][','\"}\\n')\n",
    "    dict_list = [json.loads(line) for line in a.split('\\n')]\n",
    "    return dict_list\n",
    "\n",
    "def read_json_as_dataframe(file_name):\n",
    "  return pd.DataFrame(read_json(file_name))\n",
    "\n",
    "def read_csv_as_dataframe(file_name):\n",
    "  return pd.read_csv(t_path+file_name)\n",
    "\n",
    "def merge_data(json_file,csv_file):\n",
    "  a = read_json_as_dataframe(json_file)\n",
    "  b = read_csv_as_dataframe(csv_file)\n",
    "  a['timestamp'] = [int(i['$date']/1000) for i in a['date']]\n",
    "  a['date'] = [datetime.datetime.fromtimestamp(i).strftime('%Y-%m-%d') for i in a['timestamp']]\n",
    "\n",
    "  b['max_diff'] = [i-j for i,j in zip(b['High'],b['Low'])]\n",
    "  b['diff'] = [j-i for i,j in zip(b['Open'],b['Close'])]\n",
    "  b['diff_percent'] = [((j-i)/i)*100 for i,j in zip(b['Open'],b['Close'])]\n",
    "  b = b.rename(columns={'Date':'date'})\n",
    "\n",
    "  c = pd.merge(a,b,on='date')\n",
    "  # all columns: 'username', 'to', 'text', 'retweets', 'favorites', 'replies', 'id',\n",
    "  #        'permalink', 'author_id', 'date', 'formatted_date', 'hashtags',\n",
    "  #        'mentions', 'geo', 'urls', 'timestamp', 'Open', 'High', 'Low', 'Close',\n",
    "  #        'Volume', 'OpenInt', 'max_diff', 'diff', 'diff_percent'\n",
    "  c = c[['username', 'text', 'retweets', 'favorites', 'replies',\n",
    "        'permalink', 'author_id', 'date', 'formatted_date', 'hashtags',\n",
    "        'mentions', 'urls', 'timestamp', 'max_diff', 'diff', 'diff_percent']]\n",
    "  c['output_binary'] = [1 if i>0 else 0  for i in c['diff']]\n",
    "  return c\n",
    "\n",
    "a = ['AAPL.json','TSLA.json','AMZN.json','GOOGL.json']\n",
    "b = ['aapl.csv','tsla.csv','amzn.csv','googl.csv']\n",
    "\n",
    "data = pd.read_csv(t_path+'finalamzn.csv')\n",
    "print (data.columns)"
   ]
  },
  {
   "cell_type": "code",
   "execution_count": 0,
   "metadata": {
    "colab": {},
    "colab_type": "code",
    "id": "qBjkBML4RP8D"
   },
   "outputs": [],
   "source": [
    "def merge_data(json_file,csv_file):\n",
    "  a = read_json_as_dataframe(json_file)\n",
    "  b = read_csv_as_dataframe(csv_file)\n",
    "  a['timestamp'] = [int(i['$date']/1000) for i in a['date']]\n",
    "  a['date'] = [datetime.datetime.fromtimestamp(i).strftime('%Y-%m-%d') for i in a['timestamp']]\n",
    "\n",
    "  b['max_diff'] = [i-j for i,j in zip(b['High'],b['Low'])]\n",
    "  b['diff'] = [j-i for i,j in zip(b['Open'],b['Close'])]\n",
    "  b['diff_percent'] = [((j-i)/i)*100 for i,j in zip(b['Open'],b['Close'])]\n",
    "  b = b.rename(columns={'Date':'date'})\n",
    "\n",
    "  c = pd.merge(a,b,on='date')\n",
    "  # all columns: 'username', 'to', 'text', 'retweets', 'favorites', 'replies', 'id',\n",
    "  #        'permalink', 'author_id', 'date', 'formatted_date', 'hashtags',\n",
    "  #        'mentions', 'geo', 'urls', 'timestamp', 'Open', 'High', 'Low', 'Close',\n",
    "  #        'Volume', 'OpenInt', 'max_diff', 'diff', 'diff_percent'\n",
    "  c = c[['username', 'text', 'retweets', 'favorites', 'replies',\n",
    "        'permalink', 'author_id', 'date', 'formatted_date', 'hashtags',\n",
    "        'mentions', 'urls', 'timestamp', 'max_diff', 'diff', 'diff_percent']]\n",
    "  c['output_binary'] = [1 if i>0 else 0  for i in a[['diff']]]\n",
    "  return c\n",
    "\n",
    "\n",
    "\n"
   ]
  },
  {
   "cell_type": "code",
   "execution_count": 247,
   "metadata": {
    "colab": {
     "base_uri": "https://localhost:8080/",
     "height": 306
    },
    "colab_type": "code",
    "executionInfo": {
     "elapsed": 1236,
     "status": "ok",
     "timestamp": 1588720563310,
     "user": {
      "displayName": "Raspberry Pi",
      "photoUrl": "",
      "userId": "09371942930627630010"
     },
     "user_tz": 300
    },
    "id": "lolJxS2LwptV",
    "outputId": "0a47f6d5-e661-4bf5-8f70-f018d501a06b"
   },
   "outputs": [
    {
     "name": "stdout",
     "output_type": "stream",
     "text": [
      "28\n",
      "23\n",
      "22\n",
      "22\n",
      "4\n",
      "0        1\n",
      "1        0\n",
      "2        0\n",
      "3        0\n",
      "4        0\n",
      "        ..\n",
      "38332    0\n",
      "38333    0\n",
      "38334    0\n",
      "38335    0\n",
      "38336    0\n",
      "Name: replies, Length: 38337, dtype: int64\n"
     ]
    }
   ],
   "source": [
    "a = read_json_as_dataframe('AAPL.json')\n",
    "b = read_csv_as_dataframe('aapl.csv')\n",
    "a['timestamp'] = [int(i['$date']/1000) for i in a['date']]\n",
    "a['date'] = [datetime.datetime.fromtimestamp(i).strftime('%Y-%m-%d') for i in a['timestamp']]\n",
    "\n",
    "count = 0\n",
    "for i in a['replies']:\n",
    "  if i>20:\n",
    "    count+=1\n",
    "    print (i)\n",
    "print (count)\n",
    "print (a['replies'])"
   ]
  }
 ],
 "metadata": {
  "colab": {
   "authorship_tag": "ABX9TyPlVEBrhreV24o5qAsGUvJ8",
   "collapsed_sections": [],
   "mount_file_id": "1iA3vfaaW6BIDr8OwfVrfQZ7AFJPEFCwv",
   "name": "creating tweet_stock data set.ipynb",
   "provenance": []
  },
  "kernelspec": {
   "display_name": "Python 3",
   "language": "python",
   "name": "python3"
  },
  "language_info": {
   "codemirror_mode": {
    "name": "ipython",
    "version": 3
   },
   "file_extension": ".py",
   "mimetype": "text/x-python",
   "name": "python",
   "nbconvert_exporter": "python",
   "pygments_lexer": "ipython3",
   "version": "3.7.4"
  }
 },
 "nbformat": 4,
 "nbformat_minor": 1
}
